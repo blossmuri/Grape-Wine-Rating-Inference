{
 "cells": [
  {
   "cell_type": "code",
   "execution_count": null,
   "id": "73c5d2ef",
   "metadata": {},
   "outputs": [],
   "source": [
    "# pip install Dask ;\n",
    "# pip install pysqlite ;\n",
    "# pip install pandas ;\n",
    "# pip install scikit-learn ;\n",
    "# pip install group_lasso ;\n",
    "# pip install numpy"
   ]
  },
  {
   "cell_type": "markdown",
   "id": "03b3cd43",
   "metadata": {},
   "source": [
    "# Mods"
   ]
  },
  {
   "cell_type": "code",
   "execution_count": 1,
   "id": "86913eb1",
   "metadata": {
    "tags": []
   },
   "outputs": [],
   "source": [
    "import numpy as np\n",
    "import pandas as pd\n",
    "from sklearn.linear_model import LinearRegression\n",
    "import statsmodels.api as sm\n",
    "from sklearn.linear_model import SGDRegressor\n",
    "from sklearn.model_selection import cross_val_score\n",
    "from sklearn.model_selection import KFold\n",
    "from sklearn.model_selection import train_test_split\n",
    "from sklearn.tree import DecisionTreeRegressor\n",
    "from group_lasso import GroupLasso\n",
    "\n",
    "import sqlite3\n",
    "import warnings\n",
    "warnings.filterwarnings('ignore')"
   ]
  },
  {
   "cell_type": "markdown",
   "id": "69ee142c",
   "metadata": {},
   "source": [
    "# OLS"
   ]
  },
  {
   "cell_type": "code",
   "execution_count": 2,
   "id": "adf2d49a",
   "metadata": {},
   "outputs": [],
   "source": [
    "df = pd.read_csv(\"/home/r00323024/Xwines.csv\")"
   ]
  },
  {
   "cell_type": "code",
   "execution_count": 3,
   "id": "b62b57c8",
   "metadata": {},
   "outputs": [],
   "source": [
    "dfnew = df.groupby(['WineID', 'Vintage','Type',\"Grapes\",\"Country\",\"Acidity\",'ABV','Body' ])['Rating'].mean().reset_index()"
   ]
  },
  {
   "cell_type": "code",
   "execution_count": 23,
   "id": "4044ae20",
   "metadata": {},
   "outputs": [
    {
     "data": {
      "text/html": [
       "<div>\n",
       "<style scoped>\n",
       "    .dataframe tbody tr th:only-of-type {\n",
       "        vertical-align: middle;\n",
       "    }\n",
       "\n",
       "    .dataframe tbody tr th {\n",
       "        vertical-align: top;\n",
       "    }\n",
       "\n",
       "    .dataframe thead th {\n",
       "        text-align: right;\n",
       "    }\n",
       "</style>\n",
       "<table border=\"1\" class=\"dataframe\">\n",
       "  <thead>\n",
       "    <tr style=\"text-align: right;\">\n",
       "      <th></th>\n",
       "      <th>WineID</th>\n",
       "      <th>Vintage</th>\n",
       "      <th>Type</th>\n",
       "      <th>Grapes</th>\n",
       "      <th>Country</th>\n",
       "      <th>Acidity</th>\n",
       "      <th>ABV</th>\n",
       "      <th>Body</th>\n",
       "      <th>Rating</th>\n",
       "    </tr>\n",
       "  </thead>\n",
       "  <tbody>\n",
       "    <tr>\n",
       "      <th>0</th>\n",
       "      <td>100001</td>\n",
       "      <td>1988</td>\n",
       "      <td>Sparkling</td>\n",
       "      <td>['Muscat/Moscato']</td>\n",
       "      <td>Brazil</td>\n",
       "      <td>High</td>\n",
       "      <td>7.5</td>\n",
       "      <td>Medium-bodied</td>\n",
       "      <td>4.000000</td>\n",
       "    </tr>\n",
       "    <tr>\n",
       "      <th>1</th>\n",
       "      <td>100001</td>\n",
       "      <td>1999</td>\n",
       "      <td>Sparkling</td>\n",
       "      <td>['Muscat/Moscato']</td>\n",
       "      <td>Brazil</td>\n",
       "      <td>High</td>\n",
       "      <td>7.5</td>\n",
       "      <td>Medium-bodied</td>\n",
       "      <td>4.500000</td>\n",
       "    </tr>\n",
       "    <tr>\n",
       "      <th>2</th>\n",
       "      <td>100001</td>\n",
       "      <td>2007</td>\n",
       "      <td>Sparkling</td>\n",
       "      <td>['Muscat/Moscato']</td>\n",
       "      <td>Brazil</td>\n",
       "      <td>High</td>\n",
       "      <td>7.5</td>\n",
       "      <td>Medium-bodied</td>\n",
       "      <td>2.500000</td>\n",
       "    </tr>\n",
       "    <tr>\n",
       "      <th>3</th>\n",
       "      <td>100001</td>\n",
       "      <td>2008</td>\n",
       "      <td>Sparkling</td>\n",
       "      <td>['Muscat/Moscato']</td>\n",
       "      <td>Brazil</td>\n",
       "      <td>High</td>\n",
       "      <td>7.5</td>\n",
       "      <td>Medium-bodied</td>\n",
       "      <td>3.630952</td>\n",
       "    </tr>\n",
       "    <tr>\n",
       "      <th>4</th>\n",
       "      <td>100001</td>\n",
       "      <td>2009</td>\n",
       "      <td>Sparkling</td>\n",
       "      <td>['Muscat/Moscato']</td>\n",
       "      <td>Brazil</td>\n",
       "      <td>High</td>\n",
       "      <td>7.5</td>\n",
       "      <td>Medium-bodied</td>\n",
       "      <td>4.000000</td>\n",
       "    </tr>\n",
       "    <tr>\n",
       "      <th>...</th>\n",
       "      <td>...</td>\n",
       "      <td>...</td>\n",
       "      <td>...</td>\n",
       "      <td>...</td>\n",
       "      <td>...</td>\n",
       "      <td>...</td>\n",
       "      <td>...</td>\n",
       "      <td>...</td>\n",
       "      <td>...</td>\n",
       "    </tr>\n",
       "    <tr>\n",
       "      <th>247299</th>\n",
       "      <td>200591</td>\n",
       "      <td>2018</td>\n",
       "      <td>Rosé</td>\n",
       "      <td>['Modrý Portugal']</td>\n",
       "      <td>Czech Republic</td>\n",
       "      <td>Medium</td>\n",
       "      <td>12.5</td>\n",
       "      <td>Medium-bodied</td>\n",
       "      <td>3.000000</td>\n",
       "    </tr>\n",
       "    <tr>\n",
       "      <th>247300</th>\n",
       "      <td>200591</td>\n",
       "      <td>2020</td>\n",
       "      <td>Rosé</td>\n",
       "      <td>['Modrý Portugal']</td>\n",
       "      <td>Czech Republic</td>\n",
       "      <td>Medium</td>\n",
       "      <td>12.5</td>\n",
       "      <td>Medium-bodied</td>\n",
       "      <td>2.500000</td>\n",
       "    </tr>\n",
       "    <tr>\n",
       "      <th>247301</th>\n",
       "      <td>200709</td>\n",
       "      <td>1989</td>\n",
       "      <td>Dessert</td>\n",
       "      <td>['Tamaioasa Romaneasca']</td>\n",
       "      <td>Romania</td>\n",
       "      <td>High</td>\n",
       "      <td>11.5</td>\n",
       "      <td>Medium-bodied</td>\n",
       "      <td>3.500000</td>\n",
       "    </tr>\n",
       "    <tr>\n",
       "      <th>247302</th>\n",
       "      <td>200709</td>\n",
       "      <td>2008</td>\n",
       "      <td>Dessert</td>\n",
       "      <td>['Tamaioasa Romaneasca']</td>\n",
       "      <td>Romania</td>\n",
       "      <td>High</td>\n",
       "      <td>11.5</td>\n",
       "      <td>Medium-bodied</td>\n",
       "      <td>4.666667</td>\n",
       "    </tr>\n",
       "    <tr>\n",
       "      <th>247303</th>\n",
       "      <td>200709</td>\n",
       "      <td>2015</td>\n",
       "      <td>Dessert</td>\n",
       "      <td>['Tamaioasa Romaneasca']</td>\n",
       "      <td>Romania</td>\n",
       "      <td>High</td>\n",
       "      <td>11.5</td>\n",
       "      <td>Medium-bodied</td>\n",
       "      <td>4.000000</td>\n",
       "    </tr>\n",
       "  </tbody>\n",
       "</table>\n",
       "<p>247304 rows × 9 columns</p>\n",
       "</div>"
      ],
      "text/plain": [
       "        WineID Vintage       Type                    Grapes         Country  \\\n",
       "0       100001    1988  Sparkling        ['Muscat/Moscato']          Brazil   \n",
       "1       100001    1999  Sparkling        ['Muscat/Moscato']          Brazil   \n",
       "2       100001    2007  Sparkling        ['Muscat/Moscato']          Brazil   \n",
       "3       100001    2008  Sparkling        ['Muscat/Moscato']          Brazil   \n",
       "4       100001    2009  Sparkling        ['Muscat/Moscato']          Brazil   \n",
       "...        ...     ...        ...                       ...             ...   \n",
       "247299  200591    2018       Rosé        ['Modrý Portugal']  Czech Republic   \n",
       "247300  200591    2020       Rosé        ['Modrý Portugal']  Czech Republic   \n",
       "247301  200709    1989    Dessert  ['Tamaioasa Romaneasca']         Romania   \n",
       "247302  200709    2008    Dessert  ['Tamaioasa Romaneasca']         Romania   \n",
       "247303  200709    2015    Dessert  ['Tamaioasa Romaneasca']         Romania   \n",
       "\n",
       "       Acidity   ABV           Body    Rating  \n",
       "0         High   7.5  Medium-bodied  4.000000  \n",
       "1         High   7.5  Medium-bodied  4.500000  \n",
       "2         High   7.5  Medium-bodied  2.500000  \n",
       "3         High   7.5  Medium-bodied  3.630952  \n",
       "4         High   7.5  Medium-bodied  4.000000  \n",
       "...        ...   ...            ...       ...  \n",
       "247299  Medium  12.5  Medium-bodied  3.000000  \n",
       "247300  Medium  12.5  Medium-bodied  2.500000  \n",
       "247301    High  11.5  Medium-bodied  3.500000  \n",
       "247302    High  11.5  Medium-bodied  4.666667  \n",
       "247303    High  11.5  Medium-bodied  4.000000  \n",
       "\n",
       "[247304 rows x 9 columns]"
      ]
     },
     "execution_count": 23,
     "metadata": {},
     "output_type": "execute_result"
    }
   ],
   "source": [
    "# unique_wines = df[\"WineName\"].unique()\n",
    "# file_path = \"/home/r00323024/unique_wines.txt\"\n",
    "# with open(file_path, \"w\") as f:\n",
    "#     for wine in unique_wines:\n",
    "#         f.write(f\"{wine}\\n\")\n",
    "\n",
    "# Grapes = df[\"Grapes\"].unique()\n",
    "# file_path = \"/home/r00323024/unique_Grapes.txt\"\n",
    "# with open(file_path, \"w\") as f:\n",
    "#     for Grape in Grapes:\n",
    "#         f.write(f\"{Grape}\\n\")\n",
    "\n",
    "dfnew"
   ]
  },
  {
   "cell_type": "code",
   "execution_count": 4,
   "id": "d2a2618e-2e6e-4947-bf6c-6238a8f1ed04",
   "metadata": {
    "tags": []
   },
   "outputs": [],
   "source": [
    "%load_ext sql\n",
    "%sql sqlite://"
   ]
  },
  {
   "cell_type": "code",
   "execution_count": 5,
   "id": "a2024d82-ee24-49de-a72b-6141a679e24a",
   "metadata": {
    "tags": []
   },
   "outputs": [
    {
     "data": {
      "text/plain": [
       "247304"
      ]
     },
     "execution_count": 5,
     "metadata": {},
     "output_type": "execute_result"
    }
   ],
   "source": [
    "conn = sqlite3.connect(':memory:')  # Use ':memory:' for in-memory database\n",
    "\n",
    "# df.to_sql('my_table', conn, index=False, if_exists='replace')\n",
    "dfnew.to_sql('table_new', conn, index=False, if_exists='replace')\n"
   ]
  },
  {
   "cell_type": "code",
   "execution_count": 6,
   "id": "818706d8-3f2c-4806-a57f-075aca1fc684",
   "metadata": {
    "tags": []
   },
   "outputs": [],
   "source": [
    "\n",
    "Rating = pd.read_sql_query(\"SELECT Rating FROM table_new;\", conn)\n",
    "Type = pd.read_sql_query(\"SELECT Type FROM table_new;\", conn)\n",
    "Grapes = pd.read_sql_query(\"SELECT Grapes FROM table_new;\", conn)\n",
    "Country = pd.read_sql_query(\"SELECT Country FROM table_new;\", conn)\n",
    "Vintage = pd.read_sql_query(\"SELECT Vintage FROM table_new;\", conn)\n",
    "Acidity = pd.read_sql_query(\"SELECT Acidity FROM table_new;\", conn)\n",
    "ABV = pd.read_sql_query(\"SELECT ABV FROM table_new;\", conn)\n",
    "Body = pd.read_sql_query(\"SELECT Body FROM table_new;\", conn)"
   ]
  },
  {
   "cell_type": "code",
   "execution_count": 7,
   "id": "fa471979",
   "metadata": {},
   "outputs": [],
   "source": [
    "Type_dum = pd.get_dummies(Type,drop_first=True, sparse=True).astype(int)\n",
    "Grapes_dum = pd.get_dummies(Grapes,drop_first=True, sparse=True).astype(int)\n",
    "Country_dum = pd.get_dummies(Country,drop_first=True, sparse=True).astype(int)\n",
    "Vintage_dum = pd.get_dummies(Vintage,drop_first=True, sparse=True).astype(int)\n",
    "Acidity_dum = pd.get_dummies(Acidity,drop_first=True, sparse=True).astype(int)\n",
    "ABV_dum = pd.get_dummies(ABV,drop_first=True, sparse=True).astype(int)\n",
    "Body_dum = pd.get_dummies(Body,drop_first=True, sparse=True).astype(int)"
   ]
  },
  {
   "cell_type": "code",
   "execution_count": 8,
   "id": "531fac44",
   "metadata": {},
   "outputs": [],
   "source": [
    "final_df = pd.DataFrame(index=Type_dum.index)\n",
    "\n",
    "dfs = [Type_dum, Grapes_dum, Country_dum, Vintage_dum,Acidity_dum,Body_dum,ABV_dum]\n",
    "for df in dfs:\n",
    "    final_df = pd.concat([final_df, df], axis=1)"
   ]
  },
  {
   "cell_type": "code",
   "execution_count": 30,
   "id": "376c9183",
   "metadata": {},
   "outputs": [
    {
     "name": "stdout",
     "output_type": "stream",
     "text": [
      "<class 'pandas.core.frame.DataFrame'>\n",
      "RangeIndex: 247304 entries, 0 to 247303\n",
      "Columns: 1656 entries, Type_Dessert/Port to ABV\n",
      "dtypes: int64(1656)\n",
      "memory usage: 3.1 GB\n"
     ]
    }
   ],
   "source": [
    "final_df.info()"
   ]
  },
  {
   "cell_type": "code",
   "execution_count": 9,
   "id": "04593b8a",
   "metadata": {},
   "outputs": [],
   "source": [
    "X = sm.add_constant(final_df)  # 添加截距项\n",
    "y = Rating\n",
    "\n",
    "model = sm.OLS(y, X)\n",
    "results = model.fit()"
   ]
  },
  {
   "cell_type": "code",
   "execution_count": 11,
   "id": "0924e54f",
   "metadata": {},
   "outputs": [],
   "source": [
    "file_path = \"/home/r00323024/OLS.txt\"\n",
    "with open(file_path, \"w\") as f:\n",
    "     f.write(results.summary().as_text())"
   ]
  },
  {
   "cell_type": "markdown",
   "id": "9804e0ca",
   "metadata": {},
   "source": [
    "# RF"
   ]
  },
  {
   "cell_type": "code",
   "execution_count": null,
   "id": "e0cdfc6d",
   "metadata": {},
   "outputs": [],
   "source": [
    "# from sklearn.ensemble import RandomForestRegressor\n",
    "# from sklearn.model_selection import train_test_split\n",
    "# from sklearn.preprocessing import LabelEncoder\n",
    "\n",
    "# # 假设df是你的DataFrame\n",
    "# # 如果 \"Body\" 和 \"Acidity\" 是分类变量，需要先将其编码成数值型\n",
    "# le = LabelEncoder()\n",
    "# df['Body'] = le.fit_transform(df['Body'])\n",
    "# df['Acidity'] = le.fit_transform(df['Acidity'])\n",
    "\n",
    "# # 确保 Rating 是目标变量，并且是连续变量\n",
    "# X = df[['Body', 'Acidity']]  # 注意此处的写法，应该是双重方括号\n",
    "# y = df['Rating']\n",
    "\n",
    "# # 划分训练集和测试集\n",
    "# X_train, X_test, y_train, y_test = train_test_split(X, y, test_size=0.2, random_state=42)\n",
    "\n",
    "# # 初始化随机森林回归器，可以指定 n_estimators 和其他参数\n",
    "# reg = RandomForestRegressor(n_estimators=100)  # 也可以修改其他参数\n",
    "# reg.fit(X_train, y_train)\n",
    "\n",
    "# # 使用reg.predict(X_test)来进行预测\n"
   ]
  },
  {
   "cell_type": "markdown",
   "id": "2cb197dc",
   "metadata": {},
   "source": [
    "# Stat"
   ]
  },
  {
   "cell_type": "code",
   "execution_count": null,
   "id": "c31d76b4",
   "metadata": {},
   "outputs": [],
   "source": [
    "# plt.figure(figsize=(12, 36))  # 調整整體圖表的大小，高度增加以容納垂直排列的子圖\n",
    "\n",
    "# plt.subplot(6, 1, 1)  # 6行1列的第1張圖\n",
    "# sns.distplot(df2['ABV'])\n",
    "\n",
    "# plt.subplot(6, 1, 2)  # 6行1列的第2張圖\n",
    "# sns.histplot(df2['Body'], bins=len(df2['Body'].unique()))\n",
    "# plt.xticks(rotation=45)\n",
    "\n",
    "# plt.subplot(6, 1, 3)  # 6行1列的第3張圖\n",
    "# sns.histplot(df2['Acidity'], bins=len(df2['Acidity'].unique()))\n",
    "\n",
    "# plt.subplot(6, 1, 4)  # 6行1列的第4張圖\n",
    "# sns.histplot(df2['Type'], bins=len(df2['Type'].unique()))\n",
    "\n",
    "# plt.subplot(6, 1, 5)  # 6行1列的第5張圖\n",
    "# sns.histplot(df2['Country'], bins=len(df2['Country'].unique()))\n",
    "# plt.xticks(rotation=90)  # 旋轉標籤以避免重疊\n",
    "\n",
    "# plt.subplot(6, 1, 6)  # 6行1列的第6張圖\n",
    "# sns.histplot(df2['Elaborate'], bins=len(df2['Elaborate'].unique()))\n",
    "# plt.xticks(rotation=45)\n",
    "\n",
    "# plt.tight_layout()  # 調整子圖之間的間距\n",
    "# plt.show()\n"
   ]
  }
 ],
 "metadata": {
  "kernelspec": {
   "display_name": "Python 3 (ipykernel)",
   "language": "python",
   "name": "python3"
  },
  "language_info": {
   "codemirror_mode": {
    "name": "ipython",
    "version": 3
   },
   "file_extension": ".py",
   "mimetype": "text/x-python",
   "name": "python",
   "nbconvert_exporter": "python",
   "pygments_lexer": "ipython3",
   "version": "3.8.10"
  },
  "toc": {
   "base_numbering": 1,
   "nav_menu": {},
   "number_sections": true,
   "sideBar": true,
   "skip_h1_title": false,
   "title_cell": "Table of Contents",
   "title_sidebar": "Contents",
   "toc_cell": false,
   "toc_position": {},
   "toc_section_display": true,
   "toc_window_display": false
  },
  "varInspector": {
   "cols": {
    "lenName": 16,
    "lenType": 16,
    "lenVar": 40
   },
   "kernels_config": {
    "python": {
     "delete_cmd_postfix": "",
     "delete_cmd_prefix": "del ",
     "library": "var_list.py",
     "varRefreshCmd": "print(var_dic_list())"
    },
    "r": {
     "delete_cmd_postfix": ") ",
     "delete_cmd_prefix": "rm(",
     "library": "var_list.r",
     "varRefreshCmd": "cat(var_dic_list()) "
    }
   },
   "types_to_exclude": [
    "module",
    "function",
    "builtin_function_or_method",
    "instance",
    "_Feature"
   ],
   "window_display": false
  }
 },
 "nbformat": 4,
 "nbformat_minor": 5
}
