{
 "cells": [
  {
   "cell_type": "markdown",
   "id": "03b3cd43",
   "metadata": {},
   "source": [
    "# Mods"
   ]
  },
  {
   "cell_type": "code",
   "execution_count": 2,
   "id": "73c5d2ef",
   "metadata": {},
   "outputs": [],
   "source": [
    "# pip install Dask ;\n",
    "# pip install pysqlite ;\n",
    "# pip install pandas ;\n",
    "# pip install scikit-learn ;\n",
    "# pip install group_lasso ;\n",
    "# pip install numpy\n",
    "# pip install asgl\n",
    "# pip install groupry "
   ]
  },
  {
   "cell_type": "code",
   "execution_count": 1,
   "id": "86913eb1",
   "metadata": {
    "tags": []
   },
   "outputs": [],
   "source": [
    "import numpy as np\n",
    "import pandas as pd\n",
    "# import asgl\n",
    "import ast\n",
    "import matplotlib.pyplot as plt\n",
    "import seaborn as sns\n",
    "from sklearn.linear_model import LinearRegression\n",
    "import statsmodels.api as sm\n",
    "\n",
    "from sklearn.linear_model import SGDRegressor\n",
    "from sklearn.model_selection import cross_val_score\n",
    "from sklearn.model_selection import KFold\n",
    "from sklearn.model_selection import train_test_split\n",
    "from sklearn.tree import DecisionTreeRegressor\n",
    "\n",
    "import sqlite3\n",
    "import warnings\n",
    "warnings.filterwarnings('ignore')"
   ]
  },
  {
   "cell_type": "code",
   "execution_count": 2,
   "id": "adf2d49a",
   "metadata": {},
   "outputs": [],
   "source": [
    "Df = pd.read_csv(\"/home/r00323024/Xwines.csv\")"
   ]
  },
  {
   "cell_type": "markdown",
   "id": "fd8fa7b0",
   "metadata": {},
   "source": [
    "# data process"
   ]
  },
  {
   "cell_type": "code",
   "execution_count": 3,
   "id": "2b23f04b",
   "metadata": {},
   "outputs": [],
   "source": [
    "df = Df\n",
    "df = df[df[\"Vintage\"] != \"N.V.\"]\n",
    "df[\"Vintage\"]=df[\"Vintage\"].astype(str)\n",
    "df[\"Rating\"]=df[\"Rating\"].astype(int)\n",
    "df['Date'] = pd.to_datetime(df['Date'])\n",
    "df['month'] = df['Date'].dt.month\n",
    "df['week_of_month'] = df['Date'].dt.day // 7 + 1  # 使用整除計算\n",
    "df['year'] = df['Date'].dt.year\n",
    "df['season'] = df['year'].astype(str) +'第' + df['month'].astype(str) + '月第' + df['week_of_month'].astype(str) + '週'\n",
    "df['duplicate_diff_rating'] = df.groupby(['WineID', \"UserID\" , \"Vintage\", \"season\",])['Rating'].transform('nunique') > 1\n",
    "df = df[df['duplicate_diff_rating'] == False]"
   ]
  },
  {
   "cell_type": "code",
   "execution_count": 4,
   "id": "e05790b1",
   "metadata": {},
   "outputs": [],
   "source": [
    "columns_to_drop = [\"Elaborate\", \"Harmonize\", \"Website\", \"Vintages\", \"RatingID\", \"RegionName\", \"WineryName\",\"Code\",\"RegionID\",\"month\",\"week_of_month\",\"year\",\"duplicate_diff_rating\",\"Date\",\"WineryID\"]\n",
    "df.drop(columns=columns_to_drop, inplace=True)"
   ]
  },
  {
   "cell_type": "code",
   "execution_count": 5,
   "id": "028593b1",
   "metadata": {},
   "outputs": [],
   "source": [
    "columns_to_group = ['WineID', \"Vintage\" ,'Type','Grapes','Acidity','Body','Country']\n",
    "df =df.groupby(columns_to_group)['Rating'].mean().reset_index()"
   ]
  },
  {
   "cell_type": "code",
   "execution_count": 6,
   "id": "e6fb7031",
   "metadata": {},
   "outputs": [],
   "source": [
    "country_to_region = {\n",
    "    'Italy': 'Italy',\n",
    "    'Portugal': 'Portugal',\n",
    "    'France': 'France',\n",
    "    'Spain': 'Spain',\n",
    "    'Germany': 'East Eur',\n",
    "    'Switzerland': 'New world',\n",
    "    'United States': 'North America',\n",
    "    'Australia': 'Australia',\n",
    "    'Hungary': 'East Eur',\n",
    "    'Lebanon': 'East Eur',\n",
    "    'South Africa': 'South Africa',\n",
    "    'Brazil': 'South America',\n",
    "    'Ukraine': 'East Eur',\n",
    "    'Argentina': 'South America',\n",
    "    'Chile': 'South America',\n",
    "    'Russia': 'East Eur',\n",
    "    'Romania': 'East Eur',\n",
    "    'Turkey': 'New world',\n",
    "    'Mexico': 'South America',\n",
    "    'New Zealand': 'New world',\n",
    "    'Greece': 'Greece',\n",
    "    'Georgia': 'East Eur',\n",
    "    'Austria': 'East Eur',\n",
    "    'Canada': 'North America',\n",
    "    'Croatia': 'East Eur',\n",
    "    'Japan': 'New world',\n",
    "    'Uruguay': 'South America',\n",
    "    'Czech Republic': 'East Eur',\n",
    "    'Bulgaria': 'East Eur',\n",
    "    'Morocco': 'North Africa',\n",
    "    'Belarus': 'East Eur',\n",
    "    'Israel': 'New world',\n",
    "    'India': 'New world',\n",
    "    'Moldova': 'East Eur',\n",
    "    'Cyprus': 'East Eur',\n",
    "    'United Kingdom': 'New world',\n",
    "    'Malta': 'North Africa',\n",
    "    'North Macedonia': 'New world'\n",
    "}\n",
    "df['Region'] = df['Country'].map(country_to_region)\n",
    "df['Region_Vintage'] = df['Region'] + '_' + df['Vintage']\n",
    "columns_to_drop = [\"Country\"]\n",
    "df.drop(columns=columns_to_drop, inplace=True)"
   ]
  },
  {
   "cell_type": "code",
   "execution_count": 88,
   "id": "360d0a56",
   "metadata": {},
   "outputs": [
    {
     "data": {
      "text/html": [
       "<div>\n",
       "<style scoped>\n",
       "    .dataframe tbody tr th:only-of-type {\n",
       "        vertical-align: middle;\n",
       "    }\n",
       "\n",
       "    .dataframe tbody tr th {\n",
       "        vertical-align: top;\n",
       "    }\n",
       "\n",
       "    .dataframe thead th {\n",
       "        text-align: right;\n",
       "    }\n",
       "</style>\n",
       "<table border=\"1\" class=\"dataframe\">\n",
       "  <thead>\n",
       "    <tr style=\"text-align: right;\">\n",
       "      <th></th>\n",
       "      <th>WineID</th>\n",
       "      <th>Vintage</th>\n",
       "      <th>Type</th>\n",
       "      <th>Grapes</th>\n",
       "      <th>Acidity</th>\n",
       "      <th>Body</th>\n",
       "      <th>Rating</th>\n",
       "      <th>Region</th>\n",
       "      <th>Region_Vintage</th>\n",
       "    </tr>\n",
       "  </thead>\n",
       "  <tbody>\n",
       "    <tr>\n",
       "      <th>0</th>\n",
       "      <td>100001</td>\n",
       "      <td>1988</td>\n",
       "      <td>Sparkling</td>\n",
       "      <td>['Muscat/Moscato']</td>\n",
       "      <td>High</td>\n",
       "      <td>Medium-bodied</td>\n",
       "      <td>4.000000</td>\n",
       "      <td>South America</td>\n",
       "      <td>South America_1988</td>\n",
       "    </tr>\n",
       "    <tr>\n",
       "      <th>1</th>\n",
       "      <td>100001</td>\n",
       "      <td>1999</td>\n",
       "      <td>Sparkling</td>\n",
       "      <td>['Muscat/Moscato']</td>\n",
       "      <td>High</td>\n",
       "      <td>Medium-bodied</td>\n",
       "      <td>4.500000</td>\n",
       "      <td>South America</td>\n",
       "      <td>South America_1999</td>\n",
       "    </tr>\n",
       "    <tr>\n",
       "      <th>2</th>\n",
       "      <td>100001</td>\n",
       "      <td>2007</td>\n",
       "      <td>Sparkling</td>\n",
       "      <td>['Muscat/Moscato']</td>\n",
       "      <td>High</td>\n",
       "      <td>Medium-bodied</td>\n",
       "      <td>2.000000</td>\n",
       "      <td>South America</td>\n",
       "      <td>South America_2007</td>\n",
       "    </tr>\n",
       "    <tr>\n",
       "      <th>3</th>\n",
       "      <td>100001</td>\n",
       "      <td>2008</td>\n",
       "      <td>Sparkling</td>\n",
       "      <td>['Muscat/Moscato']</td>\n",
       "      <td>High</td>\n",
       "      <td>Medium-bodied</td>\n",
       "      <td>3.523810</td>\n",
       "      <td>South America</td>\n",
       "      <td>South America_2008</td>\n",
       "    </tr>\n",
       "    <tr>\n",
       "      <th>4</th>\n",
       "      <td>100001</td>\n",
       "      <td>2009</td>\n",
       "      <td>Sparkling</td>\n",
       "      <td>['Muscat/Moscato']</td>\n",
       "      <td>High</td>\n",
       "      <td>Medium-bodied</td>\n",
       "      <td>4.000000</td>\n",
       "      <td>South America</td>\n",
       "      <td>South America_2009</td>\n",
       "    </tr>\n",
       "    <tr>\n",
       "      <th>...</th>\n",
       "      <td>...</td>\n",
       "      <td>...</td>\n",
       "      <td>...</td>\n",
       "      <td>...</td>\n",
       "      <td>...</td>\n",
       "      <td>...</td>\n",
       "      <td>...</td>\n",
       "      <td>...</td>\n",
       "      <td>...</td>\n",
       "    </tr>\n",
       "    <tr>\n",
       "      <th>246685</th>\n",
       "      <td>200591</td>\n",
       "      <td>2018</td>\n",
       "      <td>Rosé</td>\n",
       "      <td>['Modrý Portugal']</td>\n",
       "      <td>Medium</td>\n",
       "      <td>Medium-bodied</td>\n",
       "      <td>3.000000</td>\n",
       "      <td>East Eur</td>\n",
       "      <td>East Eur_2018</td>\n",
       "    </tr>\n",
       "    <tr>\n",
       "      <th>246686</th>\n",
       "      <td>200591</td>\n",
       "      <td>2020</td>\n",
       "      <td>Rosé</td>\n",
       "      <td>['Modrý Portugal']</td>\n",
       "      <td>Medium</td>\n",
       "      <td>Medium-bodied</td>\n",
       "      <td>2.500000</td>\n",
       "      <td>East Eur</td>\n",
       "      <td>East Eur_2020</td>\n",
       "    </tr>\n",
       "    <tr>\n",
       "      <th>246687</th>\n",
       "      <td>200709</td>\n",
       "      <td>1989</td>\n",
       "      <td>Dessert</td>\n",
       "      <td>['Tamaioasa Romaneasca']</td>\n",
       "      <td>High</td>\n",
       "      <td>Medium-bodied</td>\n",
       "      <td>3.000000</td>\n",
       "      <td>East Eur</td>\n",
       "      <td>East Eur_1989</td>\n",
       "    </tr>\n",
       "    <tr>\n",
       "      <th>246688</th>\n",
       "      <td>200709</td>\n",
       "      <td>2008</td>\n",
       "      <td>Dessert</td>\n",
       "      <td>['Tamaioasa Romaneasca']</td>\n",
       "      <td>High</td>\n",
       "      <td>Medium-bodied</td>\n",
       "      <td>4.666667</td>\n",
       "      <td>East Eur</td>\n",
       "      <td>East Eur_2008</td>\n",
       "    </tr>\n",
       "    <tr>\n",
       "      <th>246689</th>\n",
       "      <td>200709</td>\n",
       "      <td>2015</td>\n",
       "      <td>Dessert</td>\n",
       "      <td>['Tamaioasa Romaneasca']</td>\n",
       "      <td>High</td>\n",
       "      <td>Medium-bodied</td>\n",
       "      <td>4.000000</td>\n",
       "      <td>East Eur</td>\n",
       "      <td>East Eur_2015</td>\n",
       "    </tr>\n",
       "  </tbody>\n",
       "</table>\n",
       "<p>246690 rows × 9 columns</p>\n",
       "</div>"
      ],
      "text/plain": [
       "        WineID Vintage       Type                    Grapes Acidity  \\\n",
       "0       100001    1988  Sparkling        ['Muscat/Moscato']    High   \n",
       "1       100001    1999  Sparkling        ['Muscat/Moscato']    High   \n",
       "2       100001    2007  Sparkling        ['Muscat/Moscato']    High   \n",
       "3       100001    2008  Sparkling        ['Muscat/Moscato']    High   \n",
       "4       100001    2009  Sparkling        ['Muscat/Moscato']    High   \n",
       "...        ...     ...        ...                       ...     ...   \n",
       "246685  200591    2018       Rosé        ['Modrý Portugal']  Medium   \n",
       "246686  200591    2020       Rosé        ['Modrý Portugal']  Medium   \n",
       "246687  200709    1989    Dessert  ['Tamaioasa Romaneasca']    High   \n",
       "246688  200709    2008    Dessert  ['Tamaioasa Romaneasca']    High   \n",
       "246689  200709    2015    Dessert  ['Tamaioasa Romaneasca']    High   \n",
       "\n",
       "                 Body    Rating         Region      Region_Vintage  \n",
       "0       Medium-bodied  4.000000  South America  South America_1988  \n",
       "1       Medium-bodied  4.500000  South America  South America_1999  \n",
       "2       Medium-bodied  2.000000  South America  South America_2007  \n",
       "3       Medium-bodied  3.523810  South America  South America_2008  \n",
       "4       Medium-bodied  4.000000  South America  South America_2009  \n",
       "...               ...       ...            ...                 ...  \n",
       "246685  Medium-bodied  3.000000       East Eur       East Eur_2018  \n",
       "246686  Medium-bodied  2.500000       East Eur       East Eur_2020  \n",
       "246687  Medium-bodied  3.000000       East Eur       East Eur_1989  \n",
       "246688  Medium-bodied  4.666667       East Eur       East Eur_2008  \n",
       "246689  Medium-bodied  4.000000       East Eur       East Eur_2015  \n",
       "\n",
       "[246690 rows x 9 columns]"
      ]
     },
     "execution_count": 88,
     "metadata": {},
     "output_type": "execute_result"
    }
   ],
   "source": [
    "df"
   ]
  },
  {
   "cell_type": "code",
   "execution_count": 7,
   "id": "12152fc9",
   "metadata": {},
   "outputs": [],
   "source": [
    "Type = ['Red', 'White']\n",
    "dfRedWhite = df[df['Type'].isin(Type)]\n",
    "\n",
    "Type = [\"Sparkling\"]\n",
    "dfSparkling = df[df['Type'].isin(Type)]\n",
    "\n",
    "Type = [\"Rosé\"]\n",
    "dfSRosé = df[df['Type'].isin(Type)]\n",
    "\n",
    "Type = [\"Dessert\"]\n",
    "dfSDessert = df[df['Type'].isin(Type)]\n",
    "\n",
    "Type = [\"Dessert\"]\n",
    "dfSDessert = df[df['Type'].isin(Type)]\n",
    "\n",
    "Type = [\"Dessert/Port\"]\n",
    "dfSDessertPort = df[df['Type'].isin(Type)]"
   ]
  },
  {
   "cell_type": "markdown",
   "id": "69ee142c",
   "metadata": {},
   "source": [
    "# OLS"
   ]
  },
  {
   "cell_type": "code",
   "execution_count": 15,
   "id": "e44b5656",
   "metadata": {},
   "outputs": [],
   "source": [
    "# def abv_category(abv):\n",
    "#     if abv < 4:\n",
    "#         return '0-3.99%'\n",
    "#     elif abv < 8:\n",
    "#         return '4-7.99%'\n",
    "#     elif abv < 12:\n",
    "#         return '8-11.99%'\n",
    "#     elif abv < 16:\n",
    "#         return '12-15.99%'\n",
    "#     elif abv < 20:\n",
    "#         return '16-19.99%'\n",
    "#     else:\n",
    "#         return '20%以上'\n",
    "\n",
    "# dfnew['ABV'] = dfnew['ABV'].apply(abv_category)\n"
   ]
  },
  {
   "cell_type": "code",
   "execution_count": 8,
   "id": "a2024d82-ee24-49de-a72b-6141a679e24a",
   "metadata": {
    "tags": []
   },
   "outputs": [
    {
     "data": {
      "text/plain": [
       "215736"
      ]
     },
     "execution_count": 8,
     "metadata": {},
     "output_type": "execute_result"
    }
   ],
   "source": [
    "%load_ext sql\n",
    "%sql sqlite://\n",
    "\n",
    "conn = sqlite3.connect(':memory:')  # Use ':memory:' for in-memory database\n",
    "\n",
    "dfRedWhite.to_sql('table1', conn, index=False, if_exists='replace')"
   ]
  },
  {
   "cell_type": "code",
   "execution_count": 9,
   "id": "2932a699",
   "metadata": {},
   "outputs": [],
   "source": [
    "Rating = pd.read_sql_query(\"SELECT Rating FROM table1;\", conn)\n",
    "Type = pd.read_sql_query(\"SELECT Type FROM table1;\", conn)\n",
    "Grapes = pd.read_sql_query(\"SELECT Grapes FROM table1;\", conn)\n",
    "Region = pd.read_sql_query(\"SELECT Region FROM table1;\", conn)\n",
    "Vintage = pd.read_sql_query(\"SELECT Vintage FROM table1;\", conn)\n",
    "Acidity = pd.read_sql_query(\"SELECT Acidity FROM table1;\", conn)\n",
    "Body = pd.read_sql_query(\"SELECT Body FROM table1;\", conn)\n",
    "Region_Vintage = pd.read_sql_query(\"SELECT Region_Vintage FROM table1;\", conn)"
   ]
  },
  {
   "cell_type": "code",
   "execution_count": 10,
   "id": "b5def631",
   "metadata": {},
   "outputs": [],
   "source": [
    "Type_dum = pd.get_dummies(Type,drop_first=True, sparse=True).astype(int)\n",
    "Grapes_dum = pd.get_dummies(Grapes,drop_first=True, sparse=True).astype(int)\n",
    "Vintage_dum = pd.get_dummies(Vintage,drop_first=True, sparse=True).astype(int)\n",
    "Acidity_dum = pd.get_dummies(Acidity,drop_first=True, sparse=True).astype(int)\n",
    "Body_dum = pd.get_dummies(Body,drop_first=True, sparse=True).astype(int)\n",
    "Region_dum = pd.get_dummies(Region,drop_first=True, sparse=True).astype(int)\n",
    "Region_Vintage_dum = pd.get_dummies(Region_Vintage,drop_first=True, sparse=True).astype(int)"
   ]
  },
  {
   "cell_type": "code",
   "execution_count": 11,
   "id": "d562f089",
   "metadata": {},
   "outputs": [
    {
     "name": "stdout",
     "output_type": "stream",
     "text": [
      "<class 'pandas.core.frame.DataFrame'>\n",
      "RangeIndex: 215736 entries, 0 to 215735\n",
      "Columns: 2014 entries, Type_White to Region_Vintage_Spain_2021\n",
      "dtypes: int64(2014)\n",
      "memory usage: 3.2 GB\n"
     ]
    }
   ],
   "source": [
    "final_df = pd.DataFrame(index=Type_dum.index)\n",
    "\n",
    "dfs = [Type_dum,Body_dum, Acidity_dum,Grapes_dum, Vintage_dum,Region_dum, Region_Vintage_dum ] \n",
    "for i in dfs:\n",
    "    final_df = pd.concat([final_df, i], axis=1)\n",
    "\n",
    "final_df.info()"
   ]
  },
  {
   "cell_type": "code",
   "execution_count": 12,
   "id": "865fecb7",
   "metadata": {},
   "outputs": [],
   "source": [
    "X = sm.add_constant(final_df)  # 添加截距项\n",
    "y = Rating"
   ]
  },
  {
   "cell_type": "code",
   "execution_count": 13,
   "id": "167f5592",
   "metadata": {},
   "outputs": [],
   "source": [
    "\n",
    "model = sm.OLS(y, X)\n",
    "results = model.fit()\n",
    "\n",
    "def format_pvalues(pval):\n",
    "    if pval < 0.001:\n",
    "        return '***'\n",
    "    elif pval < 0.01:\n",
    "        return '**'\n",
    "    elif pval < 0.05:\n",
    "        return '*'\n",
    "    else:\n",
    "        return ''\n",
    "\n",
    "\n",
    "summary = results.summary()\n",
    "\n",
    "tables = summary.tables[1].data  \n",
    "headers = tables.pop(0)  \n",
    "Result = pd.DataFrame(tables, columns=headers)\n",
    "\n",
    "Result['P>|t|'] = Result['P>|t|'].astype(float).apply(lambda x: f\"{x:.3f}\" + format_pvalues(x))"
   ]
  },
  {
   "cell_type": "code",
   "execution_count": 104,
   "id": "0924e54f",
   "metadata": {},
   "outputs": [],
   "source": [
    "file_path = \"/home/r00323024/OLSRW.txt\"\n",
    "with open(file_path, \"w\") as f:\n",
    "     f.write(Result.to_string())"
   ]
  },
  {
   "cell_type": "markdown",
   "id": "92294d61",
   "metadata": {},
   "source": [
    "#LASSO"
   ]
  },
  {
   "cell_type": "code",
   "execution_count": 14,
   "id": "71e498d4",
   "metadata": {},
   "outputs": [
    {
     "name": "stdout",
     "output_type": "stream",
     "text": [
      "Best alpha found through cross-validation: 2.8602670351817206e-05\n",
      "Mean Squared Error on Test Set: 0.3548152215626057\n"
     ]
    }
   ],
   "source": [
    "import numpy as np\n",
    "from sklearn.linear_model import LassoCV\n",
    "from sklearn.model_selection import train_test_split\n",
    "from sklearn.metrics import mean_squared_error\n",
    "\n",
    "\n",
    "# 划分数据集为训练集和测试集\n",
    "X_train, X_test, y_train, y_test = train_test_split(X, y, test_size=0.2, random_state=42)\n",
    "\n",
    "# 创建带交叉验证的LASSO模型，这里设置交叉验证的折数为5\n",
    "lasso_cv = LassoCV(cv=5, random_state=42)\n",
    "\n",
    "# 拟合模型\n",
    "lasso_cv.fit(X_train, y_train)\n",
    "\n",
    "# 查看最佳的alpha值\n",
    "best_alpha = lasso_cv.alpha_\n",
    "print(\"Best alpha found through cross-validation:\", best_alpha)\n",
    "\n",
    "# 使用找到的最佳alpha值在测试集上评估模型\n",
    "y_pred = lasso_cv.predict(X_test)\n",
    "mse = mean_squared_error(y_test, y_pred)\n",
    "print(\"Mean Squared Error on Test Set:\", mse)\n"
   ]
  },
  {
   "cell_type": "code",
   "execution_count": 15,
   "id": "d58f0582",
   "metadata": {},
   "outputs": [
    {
     "name": "stdout",
     "output_type": "stream",
     "text": [
      "Mean Squared Error on Test Set: 0.3548152215626057\n"
     ]
    }
   ],
   "source": [
    "import numpy as np\n",
    "from sklearn.linear_model import Lasso\n",
    "from sklearn.metrics import mean_squared_error\n",
    "import pandas as pd\n",
    "\n",
    "X_train, X_test, y_train, y_test = train_test_split(X, y, test_size=0.2, random_state=42)\n",
    "# 重新使用最佳 alpha 值创建 LASSO 模型\n",
    "lasso = Lasso(alpha=2.8602670351817206e-05)\n",
    "\n",
    "# 在整个训练集上重新训练模型\n",
    "lasso.fit(X_train, y_train)\n",
    "\n",
    "# 对测试集进行预测\n",
    "y_pred = lasso.predict(X_test)\n",
    "\n",
    "# 计算 Mean Squared Error\n",
    "mse = mean_squared_error(y_test, y_pred)\n",
    "print(\"Mean Squared Error on Test Set:\", mse)\n",
    "\n",
    "# 将结果和一些模型细节保存到 DataFrame\n",
    "results_df = pd.DataFrame({\n",
    "    \"Best Alpha\": [2.8602670351817206e-05],\n",
    "    \"Test MSE\": [mse],\n",
    "    \"Coefficients\": [lasso.coef_]\n",
    "})\n",
    "\n",
    "# 指定文件路径\n",
    "file_path = \"/home/r00323024/LASSORW.txt\"\n",
    "\n",
    "# 将结果写入文件\n",
    "with open(file_path, \"w\") as f:\n",
    "    f.write(results_df.to_string())\n"
   ]
  },
  {
   "cell_type": "markdown",
   "id": "be97a83d",
   "metadata": {},
   "source": [
    "# SGL"
   ]
  },
  {
   "cell_type": "code",
   "execution_count": 36,
   "id": "32b2df8e",
   "metadata": {},
   "outputs": [],
   "source": [
    "y = Rating.values\n",
    "X = final_df.values\n",
    "\n",
    "X_train, X_test, y_train, y_test = train_test_split(\n",
    "    X, y, test_size=0.25, random_state=10\n",
    ")\n",
    "\n",
    "\n",
    "ranges = [\n",
    "    (0, 4), # Type\n",
    "    (5,8), # Body\n",
    "    (9, 10), # Acidity\n",
    "    (11, 1545), #Grapes\n",
    "    (1546, 1616), # Vintage\n",
    "    (1617, 1626), # Region\n",
    "    (1627, 2308) # Region_Vintage\n",
    "]\n",
    "arrays = [np.arange(start, end + 1) for start, end in ranges]\n",
    "arrays"
   ]
  },
  {
   "cell_type": "code",
   "execution_count": null,
   "id": "e566e8c4",
   "metadata": {},
   "outputs": [],
   "source": [
    "import groupyr as gpr\n",
    "# Fit an SGL model for this data\n",
    "cv = KFold(n_splits=5, shuffle=True, random_state=1729) \n",
    "sgl = gpr.SGLCV(\n",
    "    groups=arrays).fit(X, y)"
   ]
  },
  {
   "cell_type": "code",
   "execution_count": 44,
   "id": "554b5ad1",
   "metadata": {},
   "outputs": [],
   "source": [
    "import asgl\n",
    "lambda1 = (10.0 ** np.arange(-3, 1.51, 0.2)) # 23 possible values for lambda\n",
    "alpha = np.arange(0, 1, 0.05) # 20 possible values for alpha\n",
    "\n",
    "# Define model parameters\n",
    "model = 'lm'  # linear model\n",
    "penalization = 'sgl'  # sparse group lasso penalization\n",
    "parallel = True  # Code executed in parallel\n",
    "error_type = 'MSE'  # Error measuremente considered. MSE stands for Mean Squared Error.\n"
   ]
  },
  {
   "cell_type": "code",
   "execution_count": 46,
   "id": "c5567c4f",
   "metadata": {},
   "outputs": [],
   "source": [
    "\n",
    "\n",
    "X, y, groups, coef = gpr.datasets.make_group_regression(\n",
    "    n_samples=400,\n",
    "    n_groups=50,\n",
    "    n_informative_groups=5,\n",
    "    n_features_per_group=20,\n",
    "    n_informative_per_group=18,\n",
    "    noise=500,\n",
    "    coef=True,\n",
    "    random_state=10,\n",
    ")\n",
    "\n",
    "X_train, X_test, y_train, y_test = train_test_split(\n",
    "    X, y, test_size=0.25, random_state=10\n",
    ")\n",
    "\n",
    "# Fit an SGL model for this data\n",
    "cv = KFold(n_splits=5, shuffle=True, random_state=1729)  # Set shuffle=True here\n",
    "sgl = gpr.SGLCV(\n",
    "    groups=groups, cv=cv, l1_ratio=[0.0, 1.0], tuning_strategy=\"bayes\", n_bayes_iter=50\n",
    ").fit(X_train, y_train)\n",
    "\n",
    "\n"
   ]
  },
  {
   "cell_type": "markdown",
   "id": "9804e0ca",
   "metadata": {},
   "source": [
    "# RF"
   ]
  },
  {
   "cell_type": "markdown",
   "id": "2cb197dc",
   "metadata": {},
   "source": [
    "# Stat"
   ]
  },
  {
   "cell_type": "code",
   "execution_count": null,
   "id": "c31d76b4",
   "metadata": {},
   "outputs": [],
   "source": [
    "\n",
    "# plt.figure(figsize=(12, 36)) \n",
    "\n",
    "# plt.subplot(6, 1, 1)  \n",
    "# sns.distplot(df['ABV'])\n",
    "\n",
    "# plt.subplot(6, 1, 2)  \n",
    "# sns.histplot(df2['Body'], bins=len(df2['Body'].unique()))\n",
    "# plt.xticks(rotation=45)\n",
    "\n",
    "# plt.subplot(6, 1, 3)  \n",
    "# sns.histplot(df2['Acidity'], bins=len(df2['Acidity'].unique()))\n",
    "\n",
    "# plt.subplot(6, 1, 4)  \n",
    "# sns.histplot(df2['Type'], bins=len(df2['Type'].unique()))\n",
    "\n",
    "# plt.subplot(6, 1, 5)  # 6行1列的第5張圖\n",
    "# sns.histplot(df2['Country'], bins=len(df2['Country'].unique()))\n",
    "# plt.xticks(rotation=90)  # 旋轉標籤以避免重疊\n",
    "\n",
    "# plt.subplot(6, 1, 6)  # 6行1列的第6張圖\n",
    "# sns.histplot(df2['Elaborate'], bins=len(df2['Elaborate'].unique()))\n",
    "# plt.xticks(rotation=45)\n",
    "\n",
    "# plt.tight_layout()  # 調整子圖之間的間距\n",
    "# plt.show()\n"
   ]
  },
  {
   "cell_type": "code",
   "execution_count": 32,
   "id": "1fd4bccc",
   "metadata": {},
   "outputs": [
    {
     "name": "stdout",
     "output_type": "stream",
     "text": [
      "Number of unique values in Type: 6\n",
      "Number of unique values in Body: 5\n",
      "Number of unique values in Acidity: 3\n",
      "Number of unique values in Grapes: 1536\n",
      "Number of unique values in Vintage: 72\n",
      "Number of unique values in Region: 12\n",
      "Number of unique values in Region_Vintage: 752\n",
      "Number of unique values in WineryName: 5795\n",
      "Number of unique values in WineryName_Vintage: 127577\n"
     ]
    }
   ],
   "source": [
    "def count(column_name, dataframe):\n",
    "    return len(dataframe[column_name].unique())\n",
    "\n",
    "cols = [\"Type\", \"Body\",\"Acidity\",\"Grapes\", \"Vintage\",\"Region\",\"Region_Vintage\" ,\"WineryName\" , \"WineryName_Vintage\"]\n",
    "\n",
    "for i in cols:\n",
    "    print(f\"Number of unique values in {i}: {count(i, dfnew)}\")"
   ]
  },
  {
   "cell_type": "code",
   "execution_count": 6,
   "id": "14e9399e",
   "metadata": {},
   "outputs": [],
   "source": [
    "# unique_wines = df[\"WineName\"].unique()\n",
    "# file_path = \"/home/r00323024/unique_wines.txt\"\n",
    "# with open(file_path, \"w\") as f:\n",
    "#     for wine in unique_wines:\n",
    "#         f.write(f\"{wine}\\n\")\n",
    "\n",
    "# Grapes = df[\"Grapes\"].unique()\n",
    "# file_path = \"/home/r00323024/unique_Grapes.txt\"\n",
    "# with open(file_path, \"w\") as f:\n",
    "#     for Grape in Grapes:\n",
    "#         f.write(f\"{Grape}\\n\")\n",
    "\n",
    "# Vintage = dfnew[\"Vintage\"].unique()\n",
    "# file_path = \"/home/r00323024/unique_Vintage.txt\"\n",
    "# with open(file_path, \"w\") as f:\n",
    "#     for i in Vintage:\n",
    "#         f.write(f\"{i}\\n\")\n",
    "\n",
    "# WineryName = df[\"WineryName\"].unique()\n",
    "# file_path = \"/home/r00323024/unique_WineryName.txt\"\n",
    "# with open(file_path, \"w\") as f:\n",
    "#     for i in WineryName:\n",
    "#         f.write(f\"{i}\\n\")\n",
    "\n",
    "# Country = df[\"Country\"].unique()\n",
    "# file_path = \"/home/r00323024/unique_Country.txt\"\n",
    "# with open(file_path, \"w\") as f:\n",
    "#     for i in Country:\n",
    "#         f.write(f\"{i}\\n\")"
   ]
  },
  {
   "cell_type": "code",
   "execution_count": 7,
   "id": "00fc51f3",
   "metadata": {},
   "outputs": [],
   "source": [
    "# grape_varieties = dfnew[\"Grapes\"]\n",
    "\n",
    "# # We need to convert the strings back to lists and flatten them to count unique grapes\n",
    "# all_grapes = set()\n",
    "\n",
    "# for line in grape_varieties:\n",
    "#     # Convert the string list representation to an actual list\n",
    "#     variety_list = ast.literal_eval(line.strip())\n",
    "#     # Add each variety in the list to a set to ensure uniqueness\n",
    "#     for variety in variety_list:\n",
    "#         all_grapes.add(variety)\n",
    "\n",
    "# # Count of unique grape varieties\n",
    "# total_unique_grapes = len(all_grapes)\n",
    "# all_grapes, total_unique_grapes\n",
    "\n",
    "# file_path = \"/home/r00323024/unique_Grape.txt\"\n",
    "# with open(file_path, \"w\") as f:\n",
    "#     for i in all_grapes:\n",
    "#         f.write(f\"{i}\\n\")"
   ]
  }
 ],
 "metadata": {
  "kernelspec": {
   "display_name": "Python 3 (ipykernel)",
   "language": "python",
   "name": "python3"
  },
  "language_info": {
   "codemirror_mode": {
    "name": "ipython",
    "version": 3
   },
   "file_extension": ".py",
   "mimetype": "text/x-python",
   "name": "python",
   "nbconvert_exporter": "python",
   "pygments_lexer": "ipython3",
   "version": "3.10.12"
  },
  "toc": {
   "base_numbering": 1,
   "nav_menu": {},
   "number_sections": true,
   "sideBar": true,
   "skip_h1_title": false,
   "title_cell": "Table of Contents",
   "title_sidebar": "Contents",
   "toc_cell": false,
   "toc_position": {},
   "toc_section_display": true,
   "toc_window_display": false
  },
  "varInspector": {
   "cols": {
    "lenName": 16,
    "lenType": 16,
    "lenVar": 40
   },
   "kernels_config": {
    "python": {
     "delete_cmd_postfix": "",
     "delete_cmd_prefix": "del ",
     "library": "var_list.py",
     "varRefreshCmd": "print(var_dic_list())"
    },
    "r": {
     "delete_cmd_postfix": ") ",
     "delete_cmd_prefix": "rm(",
     "library": "var_list.r",
     "varRefreshCmd": "cat(var_dic_list()) "
    }
   },
   "types_to_exclude": [
    "module",
    "function",
    "builtin_function_or_method",
    "instance",
    "_Feature"
   ],
   "window_display": false
  }
 },
 "nbformat": 4,
 "nbformat_minor": 5
}
