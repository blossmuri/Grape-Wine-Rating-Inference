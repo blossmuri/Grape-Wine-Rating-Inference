{
 "cells": [
  {
   "cell_type": "markdown",
   "id": "03b3cd43",
   "metadata": {},
   "source": [
    "# Mods"
   ]
  },
  {
   "cell_type": "code",
   "execution_count": 2,
   "id": "73c5d2ef",
   "metadata": {},
   "outputs": [],
   "source": [
    "# pip install Dask ;\n",
    "# pip install pysqlite ;\n",
    "# pip install pandas ;\n",
    "# pip install scikit-learn ;\n",
    "# pip install group_lasso ;\n",
    "# pip install numpy\n",
    "# pip install asgl\n",
    "# pip install groupry "
   ]
  },
  {
   "cell_type": "code",
   "execution_count": 1,
   "id": "86913eb1",
   "metadata": {
    "tags": []
   },
   "outputs": [],
   "source": [
    "import numpy as np\n",
    "import pandas as pd\n",
    "# import asgl\n",
    "import ast\n",
    "import matplotlib.pyplot as plt\n",
    "import seaborn as sns\n",
    "from sklearn.linear_model import LinearRegression\n",
    "import statsmodels.api as sm\n",
    "\n",
    "from sklearn.linear_model import SGDRegressor\n",
    "from sklearn.model_selection import cross_val_score\n",
    "from sklearn.model_selection import KFold\n",
    "from sklearn.model_selection import train_test_split\n",
    "from sklearn.tree import DecisionTreeRegressor\n",
    "\n",
    "import sqlite3\n",
    "import warnings\n",
    "warnings.filterwarnings('ignore')"
   ]
  },
  {
   "cell_type": "code",
   "execution_count": 2,
   "id": "adf2d49a",
   "metadata": {},
   "outputs": [],
   "source": [
    "Df = pd.read_csv(\"/home/r00323024/Xwines.csv\")\n"
   ]
  },
  {
   "cell_type": "markdown",
   "id": "fd8fa7b0",
   "metadata": {},
   "source": [
    "# data process"
   ]
  },
  {
   "cell_type": "code",
   "execution_count": 76,
   "id": "2b23f04b",
   "metadata": {},
   "outputs": [],
   "source": [
    "df = Df\n",
    "\n",
    "df = df[df[\"Vintage\"] != \"N.V.\"]\n",
    "\n",
    "\n",
    "df[\"Vintage\"] = pd.to_numeric(df[\"Vintage\"])\n",
    "\n",
    "\n",
    "df = df[df['Vintage'] >= 2005]\n",
    "\n",
    "\n",
    "df[\"Vintage\"] = df[\"Vintage\"].astype(str)\n",
    "\n",
    "\n",
    "df['Date'] = pd.to_datetime(df['Date'])\n",
    "\n",
    "\n",
    "df['min_date'] = df.groupby(['Vintage', 'UserID', 'WineName'])['Date'].transform('min')\n",
    "\n",
    "\n",
    "df = df[df['Date'] == df['min_date']]\n",
    "\n",
    "\n",
    "df = df.drop_duplicates(subset=['Vintage', 'UserID', 'WineName'])\n",
    "\n",
    "\n",
    "Type = ['Red', 'White']\n",
    "df = df[df['Type'].isin(Type)]\n",
    "        \n",
    "\n",
    "winery_counts = df.groupby(\"WineryName\").size()\n",
    "\n",
    "\n",
    "df['amount'] = df['WineryName'].map(winery_counts)\n",
    "\n",
    "\n",
    "df = df[df['amount'] >= 1000]\n",
    "\n",
    "\n",
    "labels = df['WineryName'] + ' ' + df['Vintage']\n",
    "df[\"Label\"] = labels\n"
   ]
  },
  {
   "cell_type": "code",
   "execution_count": 75,
   "id": "dec31fc2",
   "metadata": {},
   "outputs": [
    {
     "name": "stdout",
     "output_type": "stream",
     "text": [
      "<class 'pandas.core.frame.DataFrame'>\n",
      "RangeIndex: 75686 entries, 0 to 75685\n",
      "Data columns (total 8 columns):\n",
      " #   Column      Non-Null Count  Dtype  \n",
      "---  ------      --------------  -----  \n",
      " 0   Vintage     75686 non-null  object \n",
      " 1   WineName    75686 non-null  object \n",
      " 2   Type        75686 non-null  object \n",
      " 3   Body        75686 non-null  object \n",
      " 4   Acidity     75686 non-null  object \n",
      " 5   Country     75686 non-null  object \n",
      " 6   WineryName  75686 non-null  object \n",
      " 7   Rating      75686 non-null  float64\n",
      "dtypes: float64(1), object(7)\n",
      "memory usage: 4.6+ MB\n"
     ]
    }
   ],
   "source": [
    "df.info()"
   ]
  },
  {
   "cell_type": "code",
   "execution_count": null,
   "id": "15875a04",
   "metadata": {},
   "outputs": [],
   "source": [
    "# stat plot\n",
    "\n",
    "df[\"Vintage\"]=df[\"Vintage\"].astype(int)\n",
    "df['Vintage'].hist(bins=60)  # bins參數控制直方圖中的條柱數量\n",
    "plt.title('Distribution of Vintage Years')\n",
    "plt.xlabel('Vintage Year')\n",
    "plt.ylabel('Frequency')\n",
    "plt.show()\n"
   ]
  },
  {
   "cell_type": "code",
   "execution_count": 77,
   "id": "e05790b1",
   "metadata": {},
   "outputs": [],
   "source": [
    "columns_to_drop = [\"RatingID\",\"WineID\",\"Date\",\"Elaborate\", \"Grapes\",\"Harmonize\",\"ABV\",\"Code\",\"RegionID\",\"RegionName\", \"Website\" ,\"WineryID\",\"Vintages\",\"min_date\",\"amount\"]\n",
    "columns_to_drop_existing = [col for col in columns_to_drop if col in df.columns]\n",
    "if columns_to_drop_existing:\n",
    "    df.drop(columns=columns_to_drop_existing, inplace=True)"
   ]
  },
  {
   "cell_type": "code",
   "execution_count": 78,
   "id": "028593b1",
   "metadata": {},
   "outputs": [],
   "source": [
    "#去識別化\n",
    "\n",
    "columns_to_group = [\"Vintage\" ,'WineName','Type','Body','Acidity','Country',\"WineryName\",\"Label\"]\n",
    "df =df.groupby(columns_to_group)['Rating'].mean().reset_index()"
   ]
  },
  {
   "cell_type": "code",
   "execution_count": 15,
   "id": "e44b5656",
   "metadata": {},
   "outputs": [],
   "source": [
    "# def abv_category(abv):\n",
    "#     if abv < 4:\n",
    "#         return '0-3.99%'\n",
    "#     elif abv < 8:\n",
    "#         return '4-7.99%'\n",
    "#     elif abv < 12:\n",
    "#         return '8-11.99%'\n",
    "#     elif abv < 16:\n",
    "#         return '12-15.99%'\n",
    "#     elif abv < 20:\n",
    "#         return '16-19.99%'\n",
    "#     else:\n",
    "#         return '20%以上'\n",
    "\n",
    "# df['ABV'] = df['ABV'].apply(abv_category)\n"
   ]
  },
  {
   "cell_type": "markdown",
   "id": "69ee142c",
   "metadata": {},
   "source": [
    "# OLS"
   ]
  },
  {
   "cell_type": "code",
   "execution_count": 82,
   "id": "a2024d82-ee24-49de-a72b-6141a679e24a",
   "metadata": {
    "tags": []
   },
   "outputs": [
    {
     "name": "stdout",
     "output_type": "stream",
     "text": [
      "The sql extension is already loaded. To reload it, use:\n",
      "  %reload_ext sql\n"
     ]
    },
    {
     "data": {
      "text/plain": [
       "75686"
      ]
     },
     "execution_count": 82,
     "metadata": {},
     "output_type": "execute_result"
    }
   ],
   "source": [
    "%load_ext sql\n",
    "%sql sqlite://\n",
    "\n",
    "conn = sqlite3.connect(':memory:')  # Use ':memory:' for in-memory database\n",
    "\n",
    "df.to_sql('table1', conn, index=False, if_exists='replace')"
   ]
  },
  {
   "cell_type": "code",
   "execution_count": 83,
   "id": "2932a699",
   "metadata": {},
   "outputs": [],
   "source": [
    "Rating = pd.read_sql_query(\"SELECT Rating FROM table1;\", conn)\n",
    "Type = pd.read_sql_query(\"SELECT Type FROM table1;\", conn)\n",
    "Acidity = pd.read_sql_query(\"SELECT Acidity FROM table1;\", conn)\n",
    "Body = pd.read_sql_query(\"SELECT Body FROM table1;\", conn)\n",
    "WineryName = pd.read_sql_query(\"SELECT WineryName FROM table1;\", conn)\n",
    "Label = pd.read_sql_query(\"SELECT Label FROM table1;\", conn)\n"
   ]
  },
  {
   "cell_type": "code",
   "execution_count": 84,
   "id": "b5def631",
   "metadata": {},
   "outputs": [],
   "source": [
    "Type_dum = pd.get_dummies(Type,drop_first=True, sparse=True).astype(int)\n",
    "Acidity_dum = pd.get_dummies(Acidity,drop_first=True, sparse=True).astype(int)\n",
    "Body_dum = pd.get_dummies(Body,drop_first=True, sparse=True).astype(int)\n",
    "WineryName_dum = pd.get_dummies(WineryName,drop_first=True, sparse=True).astype(int)\n",
    "Label_dum = pd.get_dummies(Label,drop_first=True, sparse=True).astype(int)"
   ]
  },
  {
   "cell_type": "code",
   "execution_count": 85,
   "id": "d562f089",
   "metadata": {},
   "outputs": [
    {
     "name": "stdout",
     "output_type": "stream",
     "text": [
      "<class 'pandas.core.frame.DataFrame'>\n",
      "RangeIndex: 75686 entries, 0 to 75685\n",
      "Columns: 21791 entries, Type_White to Label_Álvaro Palacios 2020\n",
      "dtypes: int64(21791)\n",
      "memory usage: 12.3 GB\n"
     ]
    }
   ],
   "source": [
    "test_df = pd.DataFrame(index=Type_dum.index)\n",
    "\n",
    "dfs = [Type_dum,Acidity_dum,Body_dum,WineryName_dum,Label_dum] \n",
    "for i in dfs:\n",
    "    test_df = pd.concat([test_df, i], axis=1)\n",
    "\n",
    "test_df.info()"
   ]
  },
  {
   "cell_type": "code",
   "execution_count": 86,
   "id": "865fecb7",
   "metadata": {},
   "outputs": [],
   "source": [
    "X = sm.add_constant(test_df)  \n",
    "y = Rating"
   ]
  },
  {
   "cell_type": "code",
   "execution_count": 87,
   "id": "167f5592",
   "metadata": {},
   "outputs": [
    {
     "ename": "LinAlgError",
     "evalue": "SVD did not converge",
     "output_type": "error",
     "traceback": [
      "\u001b[0;31m---------------------------------------------------------------------------\u001b[0m",
      "\u001b[0;31mLinAlgError\u001b[0m                               Traceback (most recent call last)",
      "Cell \u001b[0;32mIn[87], line 2\u001b[0m\n\u001b[1;32m      1\u001b[0m model \u001b[38;5;241m=\u001b[39m sm\u001b[38;5;241m.\u001b[39mOLS(y, X)\n\u001b[0;32m----> 2\u001b[0m results \u001b[38;5;241m=\u001b[39m \u001b[43mmodel\u001b[49m\u001b[38;5;241;43m.\u001b[39;49m\u001b[43mfit\u001b[49m\u001b[43m(\u001b[49m\u001b[43m)\u001b[49m\n\u001b[1;32m      4\u001b[0m \u001b[38;5;28;01mdef\u001b[39;00m \u001b[38;5;21mformat_pvalues\u001b[39m(pval):\n\u001b[1;32m      5\u001b[0m     \u001b[38;5;28;01mif\u001b[39;00m pval \u001b[38;5;241m<\u001b[39m \u001b[38;5;241m0.001\u001b[39m:\n",
      "File \u001b[0;32m~/.local/lib/python3.10/site-packages/statsmodels/regression/linear_model.py:336\u001b[0m, in \u001b[0;36mRegressionModel.fit\u001b[0;34m(self, method, cov_type, cov_kwds, use_t, **kwargs)\u001b[0m\n\u001b[1;32m    331\u001b[0m \u001b[38;5;28;01mif\u001b[39;00m method \u001b[38;5;241m==\u001b[39m \u001b[38;5;124m\"\u001b[39m\u001b[38;5;124mpinv\u001b[39m\u001b[38;5;124m\"\u001b[39m:\n\u001b[1;32m    332\u001b[0m     \u001b[38;5;28;01mif\u001b[39;00m \u001b[38;5;129;01mnot\u001b[39;00m (\u001b[38;5;28mhasattr\u001b[39m(\u001b[38;5;28mself\u001b[39m, \u001b[38;5;124m'\u001b[39m\u001b[38;5;124mpinv_wexog\u001b[39m\u001b[38;5;124m'\u001b[39m) \u001b[38;5;129;01mand\u001b[39;00m\n\u001b[1;32m    333\u001b[0m             \u001b[38;5;28mhasattr\u001b[39m(\u001b[38;5;28mself\u001b[39m, \u001b[38;5;124m'\u001b[39m\u001b[38;5;124mnormalized_cov_params\u001b[39m\u001b[38;5;124m'\u001b[39m) \u001b[38;5;129;01mand\u001b[39;00m\n\u001b[1;32m    334\u001b[0m             \u001b[38;5;28mhasattr\u001b[39m(\u001b[38;5;28mself\u001b[39m, \u001b[38;5;124m'\u001b[39m\u001b[38;5;124mrank\u001b[39m\u001b[38;5;124m'\u001b[39m)):\n\u001b[0;32m--> 336\u001b[0m         \u001b[38;5;28mself\u001b[39m\u001b[38;5;241m.\u001b[39mpinv_wexog, singular_values \u001b[38;5;241m=\u001b[39m \u001b[43mpinv_extended\u001b[49m\u001b[43m(\u001b[49m\u001b[38;5;28;43mself\u001b[39;49m\u001b[38;5;241;43m.\u001b[39;49m\u001b[43mwexog\u001b[49m\u001b[43m)\u001b[49m\n\u001b[1;32m    337\u001b[0m         \u001b[38;5;28mself\u001b[39m\u001b[38;5;241m.\u001b[39mnormalized_cov_params \u001b[38;5;241m=\u001b[39m np\u001b[38;5;241m.\u001b[39mdot(\n\u001b[1;32m    338\u001b[0m             \u001b[38;5;28mself\u001b[39m\u001b[38;5;241m.\u001b[39mpinv_wexog, np\u001b[38;5;241m.\u001b[39mtranspose(\u001b[38;5;28mself\u001b[39m\u001b[38;5;241m.\u001b[39mpinv_wexog))\n\u001b[1;32m    340\u001b[0m         \u001b[38;5;66;03m# Cache these singular values for use later.\u001b[39;00m\n",
      "File \u001b[0;32m~/.local/lib/python3.10/site-packages/statsmodels/tools/tools.py:264\u001b[0m, in \u001b[0;36mpinv_extended\u001b[0;34m(x, rcond)\u001b[0m\n\u001b[1;32m    262\u001b[0m x \u001b[38;5;241m=\u001b[39m np\u001b[38;5;241m.\u001b[39masarray(x)\n\u001b[1;32m    263\u001b[0m x \u001b[38;5;241m=\u001b[39m x\u001b[38;5;241m.\u001b[39mconjugate()\n\u001b[0;32m--> 264\u001b[0m u, s, vt \u001b[38;5;241m=\u001b[39m \u001b[43mnp\u001b[49m\u001b[38;5;241;43m.\u001b[39;49m\u001b[43mlinalg\u001b[49m\u001b[38;5;241;43m.\u001b[39;49m\u001b[43msvd\u001b[49m\u001b[43m(\u001b[49m\u001b[43mx\u001b[49m\u001b[43m,\u001b[49m\u001b[43m \u001b[49m\u001b[38;5;28;43;01mFalse\u001b[39;49;00m\u001b[43m)\u001b[49m\n\u001b[1;32m    265\u001b[0m s_orig \u001b[38;5;241m=\u001b[39m np\u001b[38;5;241m.\u001b[39mcopy(s)\n\u001b[1;32m    266\u001b[0m m \u001b[38;5;241m=\u001b[39m u\u001b[38;5;241m.\u001b[39mshape[\u001b[38;5;241m0\u001b[39m]\n",
      "File \u001b[0;32m~/.local/lib/python3.10/site-packages/numpy/linalg/linalg.py:1681\u001b[0m, in \u001b[0;36msvd\u001b[0;34m(a, full_matrices, compute_uv, hermitian)\u001b[0m\n\u001b[1;32m   1678\u001b[0m         gufunc \u001b[38;5;241m=\u001b[39m _umath_linalg\u001b[38;5;241m.\u001b[39msvd_n_s\n\u001b[1;32m   1680\u001b[0m signature \u001b[38;5;241m=\u001b[39m \u001b[38;5;124m'\u001b[39m\u001b[38;5;124mD->DdD\u001b[39m\u001b[38;5;124m'\u001b[39m \u001b[38;5;28;01mif\u001b[39;00m isComplexType(t) \u001b[38;5;28;01melse\u001b[39;00m \u001b[38;5;124m'\u001b[39m\u001b[38;5;124md->ddd\u001b[39m\u001b[38;5;124m'\u001b[39m\n\u001b[0;32m-> 1681\u001b[0m u, s, vh \u001b[38;5;241m=\u001b[39m \u001b[43mgufunc\u001b[49m\u001b[43m(\u001b[49m\u001b[43ma\u001b[49m\u001b[43m,\u001b[49m\u001b[43m \u001b[49m\u001b[43msignature\u001b[49m\u001b[38;5;241;43m=\u001b[39;49m\u001b[43msignature\u001b[49m\u001b[43m,\u001b[49m\u001b[43m \u001b[49m\u001b[43mextobj\u001b[49m\u001b[38;5;241;43m=\u001b[39;49m\u001b[43mextobj\u001b[49m\u001b[43m)\u001b[49m\n\u001b[1;32m   1682\u001b[0m u \u001b[38;5;241m=\u001b[39m u\u001b[38;5;241m.\u001b[39mastype(result_t, copy\u001b[38;5;241m=\u001b[39m\u001b[38;5;28;01mFalse\u001b[39;00m)\n\u001b[1;32m   1683\u001b[0m s \u001b[38;5;241m=\u001b[39m s\u001b[38;5;241m.\u001b[39mastype(_realType(result_t), copy\u001b[38;5;241m=\u001b[39m\u001b[38;5;28;01mFalse\u001b[39;00m)\n",
      "File \u001b[0;32m~/.local/lib/python3.10/site-packages/numpy/linalg/linalg.py:121\u001b[0m, in \u001b[0;36m_raise_linalgerror_svd_nonconvergence\u001b[0;34m(err, flag)\u001b[0m\n\u001b[1;32m    120\u001b[0m \u001b[38;5;28;01mdef\u001b[39;00m \u001b[38;5;21m_raise_linalgerror_svd_nonconvergence\u001b[39m(err, flag):\n\u001b[0;32m--> 121\u001b[0m     \u001b[38;5;28;01mraise\u001b[39;00m LinAlgError(\u001b[38;5;124m\"\u001b[39m\u001b[38;5;124mSVD did not converge\u001b[39m\u001b[38;5;124m\"\u001b[39m)\n",
      "\u001b[0;31mLinAlgError\u001b[0m: SVD did not converge"
     ]
    }
   ],
   "source": [
    "\n",
    "model = sm.OLS(y, X)\n",
    "results = model.fit()\n",
    "\n",
    "def format_pvalues(pval):\n",
    "    if pval < 0.001:\n",
    "        return '***'\n",
    "    elif pval < 0.01:\n",
    "        return '**'\n",
    "    elif pval < 0.05:\n",
    "        return '*'\n",
    "    else:\n",
    "        return ''\n",
    "\n",
    "\n",
    "summary = results.summary()\n",
    "\n",
    "tables = summary.tables[1].data  \n",
    "headers = tables.pop(0)  \n",
    "Result = pd.DataFrame(tables, columns=headers)\n",
    "\n",
    "Result['P>|t|'] = Result['P>|t|'].astype(float).apply(lambda x: f\"{x:.3f}\" + format_pvalues(x))\n",
    "\n",
    "file_path = \"/home/r00323024/OLSRW.txt\"\n",
    "with open(file_path, \"w\") as f:\n",
    "     f.write(Result.to_string())"
   ]
  },
  {
   "cell_type": "markdown",
   "id": "92294d61",
   "metadata": {},
   "source": [
    "# LASSO"
   ]
  },
  {
   "cell_type": "code",
   "execution_count": 14,
   "id": "71e498d4",
   "metadata": {},
   "outputs": [
    {
     "name": "stdout",
     "output_type": "stream",
     "text": [
      "Best alpha found through cross-validation: 2.8602670351817206e-05\n",
      "Mean Squared Error on Test Set: 0.3548152215626057\n"
     ]
    }
   ],
   "source": [
    "import numpy as np\n",
    "from sklearn.linear_model import LassoCV\n",
    "from sklearn.model_selection import train_test_split\n",
    "from sklearn.metrics import mean_squared_error\n",
    "\n",
    "\n",
    "# 划分数据集为训练集和测试集\n",
    "X_train, X_test, y_train, y_test = train_test_split(X, y, test_size=0.2, random_state=42)\n",
    "\n",
    "# 创建带交叉验证的LASSO模型，这里设置交叉验证的折数为5\n",
    "lasso_cv = LassoCV(cv=5, random_state=42)\n",
    "\n",
    "# 拟合模型\n",
    "lasso_cv.fit(X_train, y_train)\n",
    "\n",
    "# 查看最佳的alpha值\n",
    "best_alpha = lasso_cv.alpha_\n",
    "print(\"Best alpha found through cross-validation:\", best_alpha)\n",
    "\n",
    "# 使用找到的最佳alpha值在测试集上评估模型\n",
    "y_pred = lasso_cv.predict(X_test)\n",
    "mse = mean_squared_error(y_test, y_pred)\n",
    "print(\"Mean Squared Error on Test Set:\", mse)\n"
   ]
  },
  {
   "cell_type": "code",
   "execution_count": 15,
   "id": "d58f0582",
   "metadata": {},
   "outputs": [
    {
     "name": "stdout",
     "output_type": "stream",
     "text": [
      "Mean Squared Error on Test Set: 0.3548152215626057\n"
     ]
    }
   ],
   "source": [
    "import numpy as np\n",
    "from sklearn.linear_model import Lasso\n",
    "from sklearn.metrics import mean_squared_error\n",
    "import pandas as pd\n",
    "\n",
    "X_train, X_test, y_train, y_test = train_test_split(X, y, test_size=0.2, random_state=42)\n",
    "# 重新使用最佳 alpha 值创建 LASSO 模型\n",
    "lasso = Lasso(alpha=2.8602670351817206e-05)\n",
    "\n",
    "# 在整个训练集上重新训练模型\n",
    "lasso.fit(X_train, y_train)\n",
    "\n",
    "# 对测试集进行预测\n",
    "y_pred = lasso.predict(X_test)\n",
    "\n",
    "# 计算 Mean Squared Error\n",
    "mse = mean_squared_error(y_test, y_pred)\n",
    "print(\"Mean Squared Error on Test Set:\", mse)\n",
    "\n",
    "# 将结果和一些模型细节保存到 DataFrame\n",
    "results_df = pd.DataFrame({\n",
    "    \"Best Alpha\": [2.8602670351817206e-05],\n",
    "    \"Test MSE\": [mse],\n",
    "    \"Coefficients\": [lasso.coef_]\n",
    "})\n",
    "\n",
    "# 指定文件路径\n",
    "file_path = \"/home/r00323024/LASSORW.txt\"\n",
    "\n",
    "# 将结果写入文件\n",
    "with open(file_path, \"w\") as f:\n",
    "    f.write(results_df.to_string())\n"
   ]
  },
  {
   "cell_type": "markdown",
   "id": "be97a83d",
   "metadata": {},
   "source": [
    "# SGL"
   ]
  },
  {
   "cell_type": "code",
   "execution_count": 36,
   "id": "32b2df8e",
   "metadata": {},
   "outputs": [],
   "source": [
    "y = Rating.values\n",
    "X = final_df.values\n",
    "\n",
    "X_train, X_test, y_train, y_test = train_test_split(\n",
    "    X, y, test_size=0.25, random_state=10\n",
    ")\n",
    "\n",
    "\n",
    "ranges = [\n",
    "    (0, 4), # Type\n",
    "    (5,8), # Body\n",
    "    (9, 10), # Acidity\n",
    "    (11, 1545), #Grapes\n",
    "    (1546, 1616), # Vintage\n",
    "    (1617, 1626), # Region\n",
    "    (1627, 2308) # Region_Vintage\n",
    "]\n",
    "arrays = [np.arange(start, end + 1) for start, end in ranges]\n",
    "arrays"
   ]
  },
  {
   "cell_type": "code",
   "execution_count": null,
   "id": "e566e8c4",
   "metadata": {},
   "outputs": [],
   "source": [
    "import groupyr as gpr\n",
    "# Fit an SGL model for this data\n",
    "cv = KFold(n_splits=5, shuffle=True, random_state=1729) \n",
    "sgl = gpr.SGLCV(\n",
    "    groups=arrays).fit(X, y)"
   ]
  },
  {
   "cell_type": "code",
   "execution_count": 44,
   "id": "554b5ad1",
   "metadata": {},
   "outputs": [],
   "source": [
    "import asgl\n",
    "lambda1 = (10.0 ** np.arange(-3, 1.51, 0.2)) # 23 possible values for lambda\n",
    "alpha = np.arange(0, 1, 0.05) # 20 possible values for alpha\n",
    "\n",
    "# Define model parameters\n",
    "model = 'lm'  # linear model\n",
    "penalization = 'sgl'  # sparse group lasso penalization\n",
    "parallel = True  # Code executed in parallel\n",
    "error_type = 'MSE'  # Error measuremente considered. MSE stands for Mean Squared Error.\n"
   ]
  },
  {
   "cell_type": "code",
   "execution_count": 46,
   "id": "c5567c4f",
   "metadata": {},
   "outputs": [],
   "source": [
    "\n",
    "\n",
    "X, y, groups, coef = gpr.datasets.make_group_regression(\n",
    "    n_samples=400,\n",
    "    n_groups=50,\n",
    "    n_informative_groups=5,\n",
    "    n_features_per_group=20,\n",
    "    n_informative_per_group=18,\n",
    "    noise=500,\n",
    "    coef=True,\n",
    "    random_state=10,\n",
    ")\n",
    "\n",
    "X_train, X_test, y_train, y_test = train_test_split(\n",
    "    X, y, test_size=0.25, random_state=10\n",
    ")\n",
    "\n",
    "# Fit an SGL model for this data\n",
    "cv = KFold(n_splits=5, shuffle=True, random_state=1729)  # Set shuffle=True here\n",
    "sgl = gpr.SGLCV(\n",
    "    groups=groups, cv=cv, l1_ratio=[0.0, 1.0], tuning_strategy=\"bayes\", n_bayes_iter=50\n",
    ").fit(X_train, y_train)\n",
    "\n",
    "\n"
   ]
  },
  {
   "cell_type": "markdown",
   "id": "2cb197dc",
   "metadata": {},
   "source": [
    "# Stat"
   ]
  },
  {
   "cell_type": "code",
   "execution_count": null,
   "id": "c31d76b4",
   "metadata": {},
   "outputs": [],
   "source": [
    "\n",
    "# plt.figure(figsize=(12, 36)) \n",
    "\n",
    "# plt.subplot(6, 1, 1)  \n",
    "# sns.distplot(df['ABV'])\n",
    "\n",
    "# plt.subplot(6, 1, 2)  \n",
    "# sns.histplot(df2['Body'], bins=len(df2['Body'].unique()))\n",
    "# plt.xticks(rotation=45)\n",
    "\n",
    "# plt.subplot(6, 1, 3)  \n",
    "# sns.histplot(df2['Acidity'], bins=len(df2['Acidity'].unique()))\n",
    "\n",
    "# plt.subplot(6, 1, 4)  \n",
    "# sns.histplot(df2['Type'], bins=len(df2['Type'].unique()))\n",
    "\n",
    "# plt.subplot(6, 1, 5)  # 6行1列的第5張圖\n",
    "# sns.histplot(df2['Country'], bins=len(df2['Country'].unique()))\n",
    "# plt.xticks(rotation=90)  # 旋轉標籤以避免重疊\n",
    "\n",
    "# plt.subplot(6, 1, 6)  # 6行1列的第6張圖\n",
    "# sns.histplot(df2['Elaborate'], bins=len(df2['Elaborate'].unique()))\n",
    "# plt.xticks(rotation=45)\n",
    "\n",
    "# plt.tight_layout()  # 調整子圖之間的間距\n",
    "# plt.show()\n"
   ]
  },
  {
   "cell_type": "code",
   "execution_count": 32,
   "id": "1fd4bccc",
   "metadata": {},
   "outputs": [
    {
     "name": "stdout",
     "output_type": "stream",
     "text": [
      "Number of unique values in Type: 6\n",
      "Number of unique values in Body: 5\n",
      "Number of unique values in Acidity: 3\n",
      "Number of unique values in Grapes: 1536\n",
      "Number of unique values in Vintage: 72\n",
      "Number of unique values in Region: 12\n",
      "Number of unique values in Region_Vintage: 752\n",
      "Number of unique values in WineryName: 5795\n",
      "Number of unique values in WineryName_Vintage: 127577\n"
     ]
    }
   ],
   "source": [
    "def count(column_name, dataframe):\n",
    "    return len(dataframe[column_name].unique())\n",
    "\n",
    "cols = [\"Type\", \"Body\",\"Acidity\",\"Grapes\", \"Vintage\",\"Region\",\"Region_Vintage\" ,\"WineryName\" , \"WineryName_Vintage\"]\n",
    "\n",
    "for i in cols:\n",
    "    print(f\"Number of unique values in {i}: {count(i, dfnew)}\")"
   ]
  },
  {
   "cell_type": "code",
   "execution_count": 6,
   "id": "14e9399e",
   "metadata": {},
   "outputs": [],
   "source": [
    "# unique_wines = df[\"WineName\"].unique()\n",
    "# file_path = \"/home/r00323024/unique_wines.txt\"\n",
    "# with open(file_path, \"w\") as f:\n",
    "#     for wine in unique_wines:\n",
    "#         f.write(f\"{wine}\\n\")\n",
    "\n",
    "# Grapes = df[\"Grapes\"].unique()\n",
    "# file_path = \"/home/r00323024/unique_Grapes.txt\"\n",
    "# with open(file_path, \"w\") as f:\n",
    "#     for Grape in Grapes:\n",
    "#         f.write(f\"{Grape}\\n\")\n",
    "\n",
    "# Vintage = dfnew[\"Vintage\"].unique()\n",
    "# file_path = \"/home/r00323024/unique_Vintage.txt\"\n",
    "# with open(file_path, \"w\") as f:\n",
    "#     for i in Vintage:\n",
    "#         f.write(f\"{i}\\n\")\n",
    "\n",
    "# WineryName = df[\"WineryName\"].unique()\n",
    "# file_path = \"/home/r00323024/unique_WineryName.txt\"\n",
    "# with open(file_path, \"w\") as f:\n",
    "#     for i in WineryName:\n",
    "#         f.write(f\"{i}\\n\")\n",
    "\n",
    "# Country = df[\"Country\"].unique()\n",
    "# file_path = \"/home/r00323024/unique_Country.txt\"\n",
    "# with open(file_path, \"w\") as f:\n",
    "#     for i in Country:\n",
    "#         f.write(f\"{i}\\n\")"
   ]
  },
  {
   "cell_type": "code",
   "execution_count": 7,
   "id": "00fc51f3",
   "metadata": {},
   "outputs": [],
   "source": [
    "# grape_varieties = dfnew[\"Grapes\"]\n",
    "\n",
    "# # We need to convert the strings back to lists and flatten them to count unique grapes\n",
    "# all_grapes = set()\n",
    "\n",
    "# for line in grape_varieties:\n",
    "#     # Convert the string list representation to an actual list\n",
    "#     variety_list = ast.literal_eval(line.strip())\n",
    "#     # Add each variety in the list to a set to ensure uniqueness\n",
    "#     for variety in variety_list:\n",
    "#         all_grapes.add(variety)\n",
    "\n",
    "# # Count of unique grape varieties\n",
    "# total_unique_grapes = len(all_grapes)\n",
    "# all_grapes, total_unique_grapes\n",
    "\n",
    "# file_path = \"/home/r00323024/unique_Grape.txt\"\n",
    "# with open(file_path, \"w\") as f:\n",
    "#     for i in all_grapes:\n",
    "#         f.write(f\"{i}\\n\")"
   ]
  }
 ],
 "metadata": {
  "kernelspec": {
   "display_name": "Python 3 (ipykernel)",
   "language": "python",
   "name": "python3"
  },
  "language_info": {
   "codemirror_mode": {
    "name": "ipython",
    "version": 3
   },
   "file_extension": ".py",
   "mimetype": "text/x-python",
   "name": "python",
   "nbconvert_exporter": "python",
   "pygments_lexer": "ipython3",
   "version": "3.10.12"
  },
  "toc": {
   "base_numbering": 1,
   "nav_menu": {},
   "number_sections": true,
   "sideBar": true,
   "skip_h1_title": false,
   "title_cell": "Table of Contents",
   "title_sidebar": "Contents",
   "toc_cell": false,
   "toc_position": {},
   "toc_section_display": true,
   "toc_window_display": false
  },
  "varInspector": {
   "cols": {
    "lenName": 16,
    "lenType": 16,
    "lenVar": 40
   },
   "kernels_config": {
    "python": {
     "delete_cmd_postfix": "",
     "delete_cmd_prefix": "del ",
     "library": "var_list.py",
     "varRefreshCmd": "print(var_dic_list())"
    },
    "r": {
     "delete_cmd_postfix": ") ",
     "delete_cmd_prefix": "rm(",
     "library": "var_list.r",
     "varRefreshCmd": "cat(var_dic_list()) "
    }
   },
   "types_to_exclude": [
    "module",
    "function",
    "builtin_function_or_method",
    "instance",
    "_Feature"
   ],
   "window_display": false
  }
 },
 "nbformat": 4,
 "nbformat_minor": 5
}
